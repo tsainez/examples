{
  "nbformat": 4,
  "nbformat_minor": 0,
  "metadata": {
    "colab": {
      "name": "MNIST Random Forests.ipynb",
      "provenance": [],
      "collapsed_sections": []
    },
    "kernelspec": {
      "name": "python3",
      "display_name": "Python 3"
    },
    "language_info": {
      "name": "python"
    }
  },
  "cells": [
    {
      "cell_type": "markdown",
      "source": [
        "# MNIST Random Forests\n",
        "MNIST (whole training set, all 10 classes) for classification, using two types of features: pixels and LeNet5 features.\n",
        "\n",
        "See [Torchvision](https://pytorch.org/vision/stable/datasets.html#mnist)'s documentation on the datasets object module, specifically with respect to MNIST."
      ],
      "metadata": {
        "id": "TaHE47rc_8HR"
      }
    },
    {
      "cell_type": "code",
      "source": [
        "# To split up the data into training and test sets\n",
        "from sklearn.model_selection import train_test_split \n",
        "import numpy as np\n",
        "\n",
        "# For MNIST digits dataset\n",
        "from torchvision import datasets\n",
        "\n",
        "def data_loader():\n",
        "    # Import the data from \n",
        "    train_data_th = datasets.MNIST(root='./datasets', download=True, train=True)\n",
        "    test_data_th = datasets.MNIST(root='./datasets', download=True, train=False)\n",
        "    \n",
        "    train_data, train_targets = train_data_th.data, train_data_th.targets\n",
        "    test_data, test_targets = test_data_th.data, test_data_th.targets\n",
        "\n",
        "    data_train = np.array(train_data[:]).reshape(-1, 784).astype(np.float32)\n",
        "    data_test = np.array(test_data[:]).reshape(-1, 784).astype(np.float32)\n",
        "\n",
        "    data_train = (data_train / 255)\n",
        "    dtrain_mean = data_train.mean(axis=0)\n",
        "    data_train -= dtrain_mean\n",
        "    data_test = (data_test / 255).astype(np.float32)\n",
        "    data_test -= dtrain_mean\n",
        "\n",
        "    train_set_size = 0.8 # 80% of training dataset\n",
        "    # val set size = 1 - train set size\n",
        "    train_data, val_data, y_train, y_val = train_test_split(data_train, train_targets, train_size=train_set_size, random_state=1778, shuffle=True)\n",
        "\n",
        "    return train_data, val_data, data_test, y_train, y_val, test_targets\n",
        "\n",
        "# For reference, traditionally...\n",
        "x_train, x_val, x_test, y_train, y_val, y_test = data_loader()\n"
      ],
      "metadata": {
        "id": "jeEr2si8aU80"
      },
      "execution_count": null,
      "outputs": []
    },
    {
      "cell_type": "markdown",
      "source": [
        "Some information about how we divided our data...\n",
        "\n",
        "```\n",
        "  print(x_train.shape) # (48000, 784)\n",
        "  print(x_val.shape)   # (12000, 784)\n",
        "  print(x_test.shape)  # (10000, 784)\n",
        "```\n",
        "\n",
        "As you can see, our training data contains 48,000 samples, our validation data contains 12,000 samples and our testing data contains 10,000 samples. \n",
        "\n",
        "There are 784 features."
      ],
      "metadata": {
        "id": "vSPqiwRTXmcM"
      }
    },
    {
      "cell_type": "markdown",
      "source": [
        "## Training the (default) model\n",
        "As an example, let's train the default pre-packaged RandomForestClassifier from `sklearn`. \n",
        "\n"
      ],
      "metadata": {
        "id": "6RMVBiOnnh-I"
      }
    },
    {
      "cell_type": "code",
      "source": [
        "from sklearn.ensemble import RandomForestClassifier\n",
        "from sklearn.metrics import accuracy_score\n",
        "\n",
        "# Training the random forest ensemble algorithm\n",
        "rf = RandomForestClassifier()\n",
        "rf.fit(x_train, y_train) # Should take about 33 seconds\n",
        "\n",
        "# How does it perform on the training data set?\n",
        "predictions = rf.predict(x_train)\n",
        "targets = y_train\n",
        "print(\"Training data error: \" + str(1 - accuracy_score(targets, predictions)))"
      ],
      "metadata": {
        "colab": {
          "base_uri": "https://localhost:8080/"
        },
        "id": "YitNIL5kYKLq",
        "outputId": "06fdae19-8782-4be7-fb06-1e361347854a"
      },
      "execution_count": null,
      "outputs": [
        {
          "output_type": "stream",
          "name": "stdout",
          "text": [
            "Training data error: 0.0\n"
          ]
        }
      ]
    },
    {
      "cell_type": "markdown",
      "source": [
        "We should look at how the default model performed versus the validation data. We can look at the [classification report](https://scikit-learn.org/stable/modules/generated/sklearn.metrics.classification_report.html) and the [confusion matrix](https://scikit-learn.org/stable/modules/generated/sklearn.metrics.confusion_matrix.html)."
      ],
      "metadata": {
        "id": "pUq244tJgyG3"
      }
    },
    {
      "cell_type": "code",
      "source": [
        "import matplotlib.pyplot as plt\n",
        "from sklearn.metrics import classification_report, confusion_matrix, ConfusionMatrixDisplay\n",
        "\n",
        "pred = rf.predict(x_val)\n",
        "\n",
        "# Validation data accuracy\n",
        "predictions = rf.predict(x_val)\n",
        "targets = y_val\n",
        "print(\"Validation data error: \" + str(1- accuracy_score(targets, predictions)) + '\\n')\n",
        "\n",
        "print(\"Classification Report\")\n",
        "print(classification_report(y_val, pred))\n",
        "\n",
        "print(\"Confusion Matrix\")\n",
        "cm = confusion_matrix(y_val, pred)\n",
        "disp = ConfusionMatrixDisplay(confusion_matrix=cm, display_labels=rf.classes_)\n",
        "disp.plot()\n",
        "plt.show()"
      ],
      "metadata": {
        "colab": {
          "base_uri": "https://localhost:8080/",
          "height": 644
        },
        "id": "mMjyvwUHnDNh",
        "outputId": "060c8b64-08ef-4a04-8927-e07c95b95d36"
      },
      "execution_count": null,
      "outputs": [
        {
          "output_type": "stream",
          "name": "stdout",
          "text": [
            "Validation data error: 0.033499999999999974\n",
            "\n",
            "Classification Report\n",
            "              precision    recall  f1-score   support\n",
            "\n",
            "           0       0.97      0.99      0.98      1183\n",
            "           1       0.98      0.98      0.98      1338\n",
            "           2       0.95      0.97      0.96      1229\n",
            "           3       0.97      0.96      0.96      1208\n",
            "           4       0.96      0.96      0.96      1130\n",
            "           5       0.97      0.96      0.97      1060\n",
            "           6       0.98      0.98      0.98      1212\n",
            "           7       0.98      0.96      0.97      1303\n",
            "           8       0.96      0.94      0.95      1172\n",
            "           9       0.94      0.96      0.95      1165\n",
            "\n",
            "    accuracy                           0.97     12000\n",
            "   macro avg       0.97      0.97      0.97     12000\n",
            "weighted avg       0.97      0.97      0.97     12000\n",
            "\n",
            "Confusion Matrix\n"
          ]
        },
        {
          "output_type": "display_data",
          "data": {
            "text/plain": [
              "<Figure size 432x288 with 2 Axes>"
            ],
            "image/png": "[encoded data removed]"
          },
          "metadata": {
            "needs_background": "light"
          }
        }
      ]
    },
    {
      "cell_type": "markdown",
      "source": [
        "Next, let's get some more information about this model (such as it's n_estimators) and see how it performs against the test data. "
      ],
      "metadata": {
        "id": "SkHuDdvY_E6i"
      }
    },
    {
      "cell_type": "code",
      "source": [
        "# What parameters was this random forest created with?\n",
        "print(\"parameters = \" + str(rf.get_params(deep=True)))\n",
        "\n",
        "# How does it do against the test dataset?\n",
        "predictions = rf.predict(x_test)\n",
        "targets = y_test\n",
        "print(\"Test data error: \" + str(1 - accuracy_score(targets, predictions)))\n",
        "print(\"Test data accuracy: \" + str(accuracy_score(targets, predictions)))"
      ],
      "metadata": {
        "colab": {
          "base_uri": "https://localhost:8080/"
        },
        "id": "U2GyUc8p8WLa",
        "outputId": "dc50f13e-1ee7-4c27-c78e-49b014f34739"
      },
      "execution_count": null,
      "outputs": [
        {
          "output_type": "stream",
          "name": "stdout",
          "text": [
            "parameters = {'bootstrap': True, 'ccp_alpha': 0.0, 'class_weight': None, 'criterion': 'gini', 'max_depth': None, 'max_features': 'auto', 'max_leaf_nodes': None, 'max_samples': None, 'min_impurity_decrease': 0.0, 'min_samples_leaf': 1, 'min_samples_split': 2, 'min_weight_fraction_leaf': 0.0, 'n_estimators': 100, 'n_jobs': None, 'oob_score': False, 'random_state': None, 'verbose': 0, 'warm_start': False}\n",
            "Test data error: 0.03159999999999996\n",
            "Test data accuracy: 0.9684\n"
          ]
        }
      ]
    },
    {
      "cell_type": "markdown",
      "source": [
        "## Tuning the hyperparameters\n",
        "\n",
        "As we can see above, the default RandomForestsClassifier hyperparameters are already quite good for classifying MNIST digits by pixel features. But we want to see if we can do better.\n",
        "\n",
        "In the next cell, we loop creating and fitting models over a list of `n_estimators` in order to get a decent range of results."
      ],
      "metadata": {
        "id": "z9oj6zTt3PGK"
      }
    },
    {
      "cell_type": "code",
      "source": [
        "import time\n",
        "from sklearn.metrics import accuracy_score\n",
        "\n",
        "# This contains all the default parameters.\n",
        "parameters = {\n",
        "              \"max_depth\": None, \n",
        "              \"min_samples_split\": 2, \n",
        "              \"min_samples_leaf\": 1, \n",
        "              \"min_impurity_decrease\": 0,\n",
        "              \"max_features\": \"auto\", \n",
        "              \"criterion\": \"gini\" # \"entropy\"\n",
        "             }\n",
        "\n",
        "n_estimators = [1, 5, 10, 50, 100, 500, 1000, 1500, 2500]\n",
        "\n",
        "print(\"Parameters = %s\\n\" % str(parameters))\n",
        "\n",
        "cross_val_metrics = np.zeros((len(n_estimators), 2), dtype=float)\n",
        "\n",
        "for i, j in enumerate(n_estimators):\n",
        "  start_time = time.time()\n",
        "\n",
        "  rf = RandomForestClassifier(\n",
        "                              n_estimators = n_estimators[i],\n",
        "                              max_depth = parameters[\"max_depth\"], \n",
        "                              min_samples_split = parameters[\"min_samples_split\"], \n",
        "                              min_samples_leaf = parameters[\"min_samples_leaf\"], \n",
        "                              min_impurity_decrease=parameters['min_impurity_decrease'], \n",
        "                              max_features = parameters[\"max_features\"], \n",
        "                              criterion = parameters[\"criterion\"], \n",
        "                              n_jobs=-1, # This ensures the model is being trained as fast as possible.\n",
        "                              # tree_method = 'gpu_hist',\n",
        "                              random_state=1778)\n",
        "\n",
        "  rf.fit(x_train, y_train)\n",
        "\n",
        "  # How did our model perform?\n",
        "  print(str(j) + \" estimators:\")\n",
        "\n",
        "  # Training data accuracy\n",
        "  predictions = rf.predict(x_train)\n",
        "  targets = y_train\n",
        "  cross_val_metrics[i, 0] = accuracy_score(targets, predictions)\n",
        "  \n",
        "  # Validation data accuracy\n",
        "  # predictions = rf.predict(x_val)\n",
        "  # targets = y_val\n",
        "  # cross_val_metrics[i, 1] = accuracy_score(targets, predictions)\n",
        "\n",
        "  # Testing data accuracy\n",
        "  predictions = rf.predict(x_test)\n",
        "  targets = y_test\n",
        "  cross_val_metrics[i, 1] = accuracy_score(targets, predictions)\n",
        "\n",
        "  lap = time.time() - start_time\n",
        "  print(\"\\tTime elapsed: %d m %.2f s\" % (int(lap / 60) , lap - (int(lap / 60) * 60)))\n",
        "  print(\"\\tTraining data error: \" + str(1 - cross_val_metrics[i, 0]))\n",
        "  # print(\"\\tValidation data accuracy: %f\\n\" % cross_val_metrics[i, 1])\n",
        "  print(\"\\tTesting data error: \" + str(1 - cross_val_metrics[i, 1]))\n",
        "  print(\"\\tTesting data accuracy: \" + str(cross_val_metrics[i, 1]) + '\\n')\n",
        "\n"
      ],
      "metadata": {
        "id": "TgB8MFJuxzPd",
        "colab": {
          "base_uri": "https://localhost:8080/"
        },
        "outputId": "73f81a45-7125-40dc-8621-16ccb5c17eab"
      },
      "execution_count": null,
      "outputs": [
        {
          "output_type": "stream",
          "name": "stdout",
          "text": [
            "Parameters = {'max_depth': None, 'min_samples_split': 2, 'min_samples_leaf': 1, 'min_impurity_decrease': 0, 'max_features': 'auto', 'criterion': 'gini'}\n",
            "\n",
            "1 estimators:\n",
            "\tTime elapsed: 0 m 0.59 s\n",
            "\tTraining data error: 0.07152083333333337\n",
            "\tTesting data error: 0.19389999999999996\n",
            "\tTesting data accuracy: 0.8061\n",
            "\n",
            "5 estimators:\n",
            "\tTime elapsed: 0 m 0.57 s\n",
            "\tTraining data error: 0.006687499999999957\n",
            "\tTesting data error: 0.0786\n",
            "\tTesting data accuracy: 0.9214\n",
            "\n",
            "10 estimators:\n",
            "\tTime elapsed: 0 m 0.68 s\n",
            "\tTraining data error: 0.0009583333333332833\n",
            "\tTesting data error: 0.054400000000000004\n",
            "\tTesting data accuracy: 0.9456\n",
            "\n",
            "50 estimators:\n",
            "\tTime elapsed: 0 m 2.21 s\n",
            "\tTraining data error: 0.0\n",
            "\tTesting data error: 0.03500000000000003\n",
            "\tTesting data accuracy: 0.965\n",
            "\n",
            "100 estimators:\n",
            "\tTime elapsed: 0 m 4.15 s\n",
            "\tTraining data error: 0.0\n",
            "\tTesting data error: 0.032399999999999984\n",
            "\tTesting data accuracy: 0.9676\n",
            "\n",
            "500 estimators:\n",
            "\tTime elapsed: 0 m 20.24 s\n",
            "\tTraining data error: 0.0\n",
            "\tTesting data error: 0.02959999999999996\n",
            "\tTesting data accuracy: 0.9704\n",
            "\n",
            "1000 estimators:\n",
            "\tTime elapsed: 0 m 40.79 s\n",
            "\tTraining data error: 0.0\n",
            "\tTesting data error: 0.02969999999999995\n",
            "\tTesting data accuracy: 0.9703\n",
            "\n",
            "1500 estimators:\n",
            "\tTime elapsed: 0 m 59.26 s\n",
            "\tTraining data error: 0.0\n",
            "\tTesting data error: 0.02959999999999996\n",
            "\tTesting data accuracy: 0.9704\n",
            "\n",
            "2500 estimators:\n",
            "\tTime elapsed: 1 m 38.95 s\n",
            "\tTraining data error: 0.0\n",
            "\tTesting data error: 0.029900000000000038\n",
            "\tTesting data accuracy: 0.9701\n",
            "\n"
          ]
        }
      ]
    },
    {
      "cell_type": "markdown",
      "source": [
        "Based off of those models, what trend do we see for the validation error as the number of estimators (trees) gets larger?"
      ],
      "metadata": {
        "id": "xTHFAosPfFDG"
      }
    },
    {
      "cell_type": "code",
      "source": [
        "# print(cross_val_metrics)\n",
        "\n",
        "fig = plt.figure()\n",
        "ax = plt.gca()\n",
        "ax.plot(n_estimators, 100 * (1 - cross_val_metrics[:,1]), \"b.-\", label='Test')\n",
        "ax.plot(n_estimators, 100 * (1 - cross_val_metrics[:,0]), \"g.-\", label='Training')\n",
        "ax.set_xlabel('Number of Trees')\n",
        "ax.set_title('Error vs Number of Trees')\n",
        "ax.set_ylabel('Error Percent')\n",
        "ax.set_xscale('log')\n",
        "ax.set_yscale('linear')\n",
        "ax.legend(loc='best')\n"
      ],
      "metadata": {
        "colab": {
          "base_uri": "https://localhost:8080/",
          "height": 316
        },
        "id": "xgvTQgweeHGM",
        "outputId": "fbf7559c-8b7c-4cbf-b3d7-e2e5f93882a1"
      },
      "execution_count": null,
      "outputs": [
        {
          "output_type": "execute_result",
          "data": {
            "text/plain": [
              "<matplotlib.legend.Legend at 0x234bfb81250>"
            ]
          },
          "metadata": {},
          "execution_count": 10
        },
        {
          "output_type": "display_data",
          "data": {
            "text/plain": [
              "<Figure size 432x288 with 1 Axes>"
            ],
            "image/png": "[encoded data removed]"
          },
          "metadata": {
            "needs_background": "light"
          }
        }
      ]
    },
    {
      "cell_type": "markdown",
      "source": [
        "So, as we can see the validation error approaches zero as we add more trees."
      ],
      "metadata": {
        "id": "VrpZiD2crlKK"
      }
    },
    {
      "cell_type": "markdown",
      "source": [
        "#XGBoost"
      ],
      "metadata": {
        "id": "55pTkLPTwjpU"
      }
    },
    {
      "cell_type": "code",
      "source": [
        "from sklearn.metrics import accuracy_score\n",
        "import time\n",
        "import torch as torch\n",
        "\n",
        "# print(torch.cuda.get_device_name(0))\n",
        "\n",
        "parameters = {\n",
        "              \"tree_method\": \"exact\",\n",
        "              'gpu_id': 0,\n",
        "              'n_jobs': -1,\n",
        "              'booster': 'gbtree', # can also \"gblinear\" or \"dart\"\n",
        "              'max_depth': 24, \n",
        "              'eval_metric': 'mlogloss', # accuracy_score, #'mlogloss', # 'mlogloss' by default \n",
        "              'gamma': 0,\n",
        "              'learning_rate': 2,\n",
        "              'subsample': 0.9,\n",
        "              'colsample_bynode':0.2\n",
        "            }\n",
        "\n",
        "import xgboost as xgb\n",
        "\n",
        "n_estimators = [1, 5, 10, 50, 100, 500, 1000, 1500, 2500]\n",
        "\n",
        "cross_val_metrics = np.zeros((len(n_estimators), 2), dtype=float)\n",
        "\n",
        "print(\"Parameters = %s\\n\" % str(parameters))\n",
        "\n",
        "for i, j in enumerate(n_estimators):\n",
        "  start_time = time.time()\n",
        "\n",
        "  rf = xgb.XGBRFClassifier(\n",
        "                            n_estimators = n_estimators[i],\n",
        "                            tree_method = parameters['tree_method'],\n",
        "                            gpu_id = parameters['gpu_id'],\n",
        "                            n_jobs = parameters['n_jobs'],\n",
        "                            # booster = parameters['booster'],\n",
        "                            max_depth = parameters['max_depth'],\n",
        "                            eval_metric = parameters['eval_metric'],\n",
        "                            gamma = parameters['gamma'],\n",
        "                            learning_rate = parameters['learning_rate'],\n",
        "                            subsample = parameters['subsample'],\n",
        "                            colsample_bynode = parameters['colsample_bynode'],\n",
        "                            verbosity = 0,\n",
        "                            use_label_encoder = False,\n",
        "                            random_state = 1778\n",
        "                           )\n",
        "  \n",
        "  rf.fit(x_train, y_train)\n",
        "  \n",
        "  # How did our model perform?\n",
        "  print(str(j) + \" estimators:\")\n",
        "\n",
        "  # Training data accuracy\n",
        "  predictions = rf.predict(x_train)\n",
        "  targets = y_train\n",
        "  cross_val_metrics[i, 0] = accuracy_score(targets, predictions)\n",
        "  \n",
        "  # Validation data accuracy\n",
        "  # predictions = rf.predict(x_val)\n",
        "  # targets = y_val\n",
        "  # cross_val_metrics[i, 1] = accuracy_score(targets, predictions)\n",
        "\n",
        "  # Test data accuracy\n",
        "  predictions = rf.predict(x_test)\n",
        "  targets = y_test\n",
        "  cross_val_metrics[i, 1] = accuracy_score(targets, predictions)\n",
        "\n",
        "\n",
        "  lap = time.time() - start_time\n",
        "  print(\"\\tTime elapsed: %d m %.2f s\" % (int(lap / 60) , lap - (int(lap / 60) * 60)))\n",
        "  print(\"\\tTrain data accuracy: %f\" % cross_val_metrics[i, 0])\n",
        "  print(\"\\tTest data accuracy: %f\\n\" % cross_val_metrics[i, 1])"
      ],
      "metadata": {
        "id": "OjSfRvAf3Mui",
        "colab": {
          "base_uri": "https://localhost:8080/"
        },
        "outputId": "ea22e381-a1de-4a72-bb47-7de349572adc"
      },
      "execution_count": null,
      "outputs": [
        {
          "output_type": "stream",
          "name": "stdout",
          "text": [
            "Parameters = {'tree_method': 'exact', 'gpu_id': 0, 'n_jobs': -1, 'booster': 'gbtree', 'max_depth': 24, 'eval_metric': 'mlogloss', 'gamma': 0, 'learning_rate': 2, 'subsample': 0.9, 'colsample_bynode': 0.2}\n",
            "\n",
            "1 estimators:\n",
            "\tTime elapsed: 0 m 2.78 s\n",
            "\tTrain data accuracy: 0.969833\n",
            "\tTest data accuracy: 0.896200\n",
            "\n",
            "5 estimators:\n",
            "\tTime elapsed: 0 m 5.04 s\n",
            "\tTrain data accuracy: 0.993563\n",
            "\tTest data accuracy: 0.952300\n",
            "\n",
            "10 estimators:\n",
            "\tTime elapsed: 0 m 9.47 s\n",
            "\tTrain data accuracy: 0.995500\n",
            "\tTest data accuracy: 0.960200\n",
            "\n",
            "50 estimators:\n",
            "\tTime elapsed: 0 m 44.91 s\n",
            "\tTrain data accuracy: 0.996542\n",
            "\tTest data accuracy: 0.963800\n",
            "\n",
            "100 estimators:\n",
            "\tTime elapsed: 1 m 30.85 s\n",
            "\tTrain data accuracy: 0.996521\n",
            "\tTest data accuracy: 0.964800\n",
            "\n",
            "500 estimators:\n",
            "\tTime elapsed: 7 m 31.45 s\n",
            "\tTrain data accuracy: 0.996792\n",
            "\tTest data accuracy: 0.964900\n",
            "\n",
            "1000 estimators:\n",
            "\tTime elapsed: 14 m 53.43 s\n",
            "\tTrain data accuracy: 0.996646\n",
            "\tTest data accuracy: 0.965400\n",
            "\n",
            "1500 estimators:\n",
            "\tTime elapsed: 22 m 34.26 s\n",
            "\tTrain data accuracy: 0.996687\n",
            "\tTest data accuracy: 0.965600\n",
            "\n"
          ]
        }
      ]
    },
    {
      "cell_type": "code",
      "source": [
        "import matplotlib.pyplot as plt\n",
        "\n",
        "n_estimators = [1, 5, 10, 50, 100, 500, 1000, 1500]\n",
        "cross_val_metrics = np.zeros((len(n_estimators), 2), dtype=float)\n",
        "cross_val_metrics[:, 0] = [0.969833,0.993563,0.995500,0.996542,0.996521,0.996792,0.996646,0.996687]\n",
        "cross_val_metrics[:, 1] = [0.896200, 0.952300, 0.960200, 0.963800, 0.964800, 0.964900, 0.965400, 0.965600]\n",
        "print(cross_val_metrics)\n",
        "\n",
        "fig = plt.figure()\n",
        "ax = plt.gca()\n",
        "ax.plot(n_estimators, (1 - cross_val_metrics[:,1]) * 100, \"b.-\", label='Test Error')\n",
        "ax.plot(n_estimators, (1 - cross_val_metrics[:,0]) * 100, \"g.-\", label='Training Error')\n",
        "ax.set_xlabel('Number of Trees')\n",
        "ax.set_title('Error vs Number of Trees')\n",
        "ax.set_ylabel('Error Percent')\n",
        "ax.set_xscale('log')\n",
        "ax.set_yscale('linear')\n",
        "ax.legend(loc='upper right')"
      ],
      "metadata": {
        "id": "JPHSy2vY0_PL",
        "colab": {
          "base_uri": "https://localhost:8080/",
          "height": 452
        },
        "outputId": "64ed554f-857d-411e-e1aa-94a4b64379f2"
      },
      "execution_count": null,
      "outputs": [
        {
          "output_type": "stream",
          "name": "stdout",
          "text": [
            "[[0.969833 0.8962  ]\n",
            " [0.993563 0.9523  ]\n",
            " [0.9955   0.9602  ]\n",
            " [0.996542 0.9638  ]\n",
            " [0.996521 0.9648  ]\n",
            " [0.996792 0.9649  ]\n",
            " [0.996646 0.9654  ]\n",
            " [0.996687 0.9656  ]]\n"
          ]
        },
        {
          "output_type": "execute_result",
          "data": {
            "text/plain": [
              "<matplotlib.legend.Legend at 0x7f754dc17210>"
            ]
          },
          "metadata": {},
          "execution_count": 6
        },
        {
          "output_type": "display_data",
          "data": {
            "image/png": "[encoded data removed]",
            "text/plain": [
              "<Figure size 432x288 with 1 Axes>"
            ]
          },
          "metadata": {
            "needs_background": "light"
          }
        }
      ]
    }
  ]
}